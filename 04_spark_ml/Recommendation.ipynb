{
 "cells": [
  {
   "cell_type": "code",
   "execution_count": 2,
   "metadata": {},
   "outputs": [],
   "source": [
    "import findspark\n",
    "from pyspark.sql import Row\n",
    "from pyspark.sql import SparkSession\n",
    "from pyspark.sql.functions import col,expr\n",
    "from pyspark.ml.recommendation import ALS, ALSModel\n",
    "from pyspark.ml.evaluation import RegressionEvaluator\n",
    "from pyspark.mllib.evaluation import RankingMetrics,RegressionMetrics"
   ]
  },
  {
   "cell_type": "code",
   "execution_count": 3,
   "metadata": {},
   "outputs": [],
   "source": [
    "findspark.init('/opt/cloudera/parcels/SPARK2/lib/spark2')\n",
    "spark = SparkSession.builder.master("local").appName('recommendation').getOrCreate()"
   ]
  },
  {
   "cell_type": "code",
   "execution_count": 4,
   "metadata": {},
   "outputs": [],
   "source": [
    "ratings = spark.read.csv(\"file:///04_spark_ml/data/recommendation/ratings.csv",header=True)\\\n",
    "  .rdd.toDF().selectExpr(\n",
    "    \"cast(userId as int) as userId\",\n",
    "    \"cast(movieId as int) as movieId\",\n",
    "    \"cast(rating as float) as rating\",\n",
    "    \"cast(timestamp as long) as timestamp\")"
   ]
  },
  {
   "cell_type": "code",
   "execution_count": 5,
   "metadata": {},
   "outputs": [],
   "source": [
    "train, test = ratings.randomSplit([0.8, 0.2],seed=42)"
   ]
  },
  {
   "cell_type": "code",
   "execution_count": 6,
   "metadata": {},
   "outputs": [
    {
     "name": "stdout",
     "output_type": "stream",
     "text": [
      "alpha: alpha for implicit preference (default: 1.0)\n",
      "checkpointInterval: set checkpoint interval (>= 1) or disable checkpoint (-1). E.g. 10 means that the cache will get checkpointed every 10 iterations. Note: this setting will be ignored if the checkpoint directory is not set in the SparkContext. (default: 10)\n",
      "coldStartStrategy: strategy for dealing with unknown or new users/items at prediction time. This may be useful in cross-validation or production scenarios, for handling user/item ids the model has not seen in the training data. Supported values: 'nan', 'drop'. (default: nan)\n",
      "finalStorageLevel: StorageLevel for ALS model factors. (default: MEMORY_AND_DISK)\n",
      "implicitPrefs: whether to use implicit preference (default: False)\n",
      "intermediateStorageLevel: StorageLevel for intermediate datasets. Cannot be 'NONE'. (default: MEMORY_AND_DISK)\n",
      "itemCol: column name for item ids. Ids must be within the integer value range. (default: item, current: movieId)\n",
      "maxIter: max number of iterations (>= 0). (default: 10, current: 5)\n",
      "nonnegative: whether to use nonnegative constraint for least squares (default: False)\n",
      "numItemBlocks: number of item blocks (default: 10)\n",
      "numUserBlocks: number of user blocks (default: 10)\n",
      "predictionCol: prediction column name. (default: prediction)\n",
      "rank: rank of the factorization (default: 10)\n",
      "ratingCol: column name for ratings (default: rating, current: rating)\n",
      "regParam: regularization parameter (>= 0). (default: 0.1, current: 0.01)\n",
      "seed: random seed. (default: -647152916575115008, current: 42)\n",
      "userCol: column name for user ids. Ids must be within the integer value range. (default: user, current: userId)\n"
     ]
    }
   ],
   "source": [
    "train, test = ratings.randomSplit([0.8, 0.2],seed=42)\n",
    "als = ALS(maxIter=5,regParam=0.01,userCol=\"userId\"\\\n",
    "          ,itemCol=\"movieId\",ratingCol=\"rating\",seed=42)\n",
    "print(als.explainParams())"
   ]
  },
  {
   "cell_type": "code",
   "execution_count": 7,
   "metadata": {},
   "outputs": [],
   "source": [
    "alsModel = als.fit(train)\n",
    "predictions = alsModel.transform(test)\n",
    "#if not dop na ,rmse will show nan\n",
    "predictions = predictions.na.drop()"
   ]
  },
  {
   "cell_type": "code",
   "execution_count": 8,
   "metadata": {},
   "outputs": [
    {
     "name": "stdout",
     "output_type": "stream",
     "text": [
      "+------+------------------+\n",
      "|userId|               col|\n",
      "+------+------------------+\n",
      "|   471|  [8633, 9.300796]|\n",
      "|   471|[179819, 8.897299]|\n",
      "|   471| [42723, 8.821673]|\n",
      "|   471|   [932, 8.630715]|\n",
      "|   471|  [3270, 8.513464]|\n",
      "|   471| [26258, 8.231782]|\n",
      "|   471| [3083, 7.7783623]|\n",
      "|   471| [3754, 7.7395625]|\n",
      "|   471|  [3040, 7.607913]|\n",
      "|   471| [89118, 7.252675]|\n",
      "|   463|[56788, 6.9032483]|\n",
      "|   463|[142422, 6.847085]|\n",
      "|   463| [3618, 6.6240664]|\n",
      "|   463|  [3250, 6.598802]|\n",
      "|   463| [3682, 6.5902553]|\n",
      "|   463|  [599, 6.5615163]|\n",
      "|   463|[86293, 6.5269365]|\n",
      "|   463| [2372, 6.5054517]|\n",
      "|   463|[55052, 6.4773607]|\n",
      "|   463|  [3672, 6.459271]|\n",
      "+------+------------------+\n",
      "only showing top 20 rows\n",
      "\n",
      "+-------+----------------+\n",
      "|movieId|             col|\n",
      "+-------+----------------+\n",
      "|   1580|  [243, 5.80148]|\n",
      "|   1580|[364, 5.6886992]|\n",
      "|   1580|[485, 5.3146124]|\n",
      "|   1580| [569, 5.159458]|\n",
      "|   1580| [43, 5.1581597]|\n",
      "|   1580|[258, 5.1380596]|\n",
      "|   1580|[192, 5.0876875]|\n",
      "|   1580|[584, 5.0416746]|\n",
      "|   1580| [441, 5.003475]|\n",
      "|   1580| [340, 4.973817]|\n",
      "|   4900| [461, 8.065332]|\n",
      "|   4900| [549, 6.320765]|\n",
      "|   4900| [363, 6.030167]|\n",
      "|   4900| [53, 5.8742366]|\n",
      "|   4900| [147, 5.819944]|\n",
      "|   4900| [258, 5.664213]|\n",
      "|   4900| [439, 5.566515]|\n",
      "|   4900| [441, 5.549108]|\n",
      "|   4900|[423, 5.5370708]|\n",
      "|   4900|[145, 5.4705787]|\n",
      "+-------+----------------+\n",
      "only showing top 20 rows\n",
      "\n"
     ]
    }
   ],
   "source": [
    "alsModel.recommendForAllUsers(10)\\\n",
    "  .selectExpr(\"userId\", \"explode(recommendations)\").show()\n",
    "alsModel.recommendForAllItems(10)\\\n",
    "  .selectExpr(\"movieId\", \"explode(recommendations)\").show()"
   ]
  },
  {
   "cell_type": "code",
   "execution_count": 11,
   "metadata": {
    "scrolled": false
   },
   "outputs": [
    {
     "name": "stdout",
     "output_type": "stream",
     "text": [
      "Root-mean-square error = 1.070249\n"
     ]
    }
   ],
   "source": [
    "evaluator = RegressionEvaluator(metricName=\"rmse\"\\\n",
    "                                ,labelCol=\"rating\"\\\n",
    "                                ,predictionCol=\"prediction\")\n",
    "rmse = evaluator.evaluate(predictions)\n",
    "print(\"Root-mean-square error = %f\" % rmse)"
   ]
  },
  {
   "cell_type": "code",
   "execution_count": 12,
   "metadata": {},
   "outputs": [],
   "source": [
    "perUserActual = predictions.where(\"rating > 2.5\")\\\n",
    "                           .groupby(\"userId\")\\\n",
    "                           .agg(expr(\"collect_set(movieId) as movies\"))"
   ]
  },
  {
   "cell_type": "code",
   "execution_count": 13,
   "metadata": {},
   "outputs": [
    {
     "name": "stdout",
     "output_type": "stream",
     "text": [
      "+------+--------------------+\n",
      "|userId|              movies|\n",
      "+------+--------------------+\n",
      "|   463|[520, 6539, 1088,...|\n",
      "|   496|        [912, 58559]|\n",
      "|   148|[60069, 7153, 540...|\n",
      "|   471|        [2324, 2571]|\n",
      "|   392|[2683, 1221, 1197...|\n",
      "|   243|[586, 153, 165, 6...|\n",
      "|   540|[589, 4993, 2329,...|\n",
      "|    31|[1356, 1214, 784,...|\n",
      "|   516|[4361, 4027, 480,...|\n",
      "|   580|[1097, 44022, 231...|\n",
      "|    85|[527, 1237, 314, ...|\n",
      "|   451|[780, 141, 671, 9...|\n",
      "|   137|[4262, 4995, 2716...|\n",
      "|   251|[78499, 318, 1197...|\n",
      "|   458|[266, 48, 300, 39...|\n",
      "|    65|[2959, 4993, 7458...|\n",
      "|   481|              [1653]|\n",
      "|   588|[356, 150, 593, 3...|\n",
      "|   255|[2716, 1907, 3396...|\n",
      "|    53|[916, 249, 1298, ...|\n",
      "+------+--------------------+\n",
      "only showing top 20 rows\n",
      "\n"
     ]
    }
   ],
   "source": [
    "perUserActual.show()"
   ]
  },
  {
   "cell_type": "code",
   "execution_count": 14,
   "metadata": {},
   "outputs": [
    {
     "name": "stdout",
     "output_type": "stream",
     "text": [
      "+------+--------------------+\n",
      "|userId|              movies|\n",
      "+------+--------------------+\n",
      "|   148|[6377, 7153, 6984...|\n",
      "|   463|[36529, 1088, 169...|\n",
      "|   471|        [2571, 2324]|\n",
      "|   496|[4191, 58559, 720...|\n",
      "|   243|[181, 153, 165, 6...|\n",
      "|   392|[2694, 2683, 1197...|\n",
      "|   540|[2747, 2598, 589,...|\n",
      "|    31|[784, 7, 25, 1302...|\n",
      "|   516|[4361, 480, 3471,...|\n",
      "|    85|[314, 1183, 1641,...|\n",
      "|   137|[4427, 968, 2716,...|\n",
      "|   251|[2571, 318, 78499...|\n",
      "|   451|[762, 788, 671, 7...|\n",
      "|   580|[435, 2407, 6003,...|\n",
      "|    65|[47610, 97752, 74...|\n",
      "|   458|[39, 377, 266, 30...|\n",
      "|    53|[1100, 916, 1049,...|\n",
      "|   255|[2064, 3929, 2355...|\n",
      "|   481|              [1653]|\n",
      "|   588|[20, 333, 10, 766...|\n",
      "+------+--------------------+\n",
      "only showing top 20 rows\n",
      "\n"
     ]
    }
   ],
   "source": [
    "perUserPredictions = predictions\\\n",
    "                .orderBy(col(\"userId\"),expr(\"prediction DESC\"))\\\n",
    "                .groupBy(\"userId\")\\\n",
    "                .agg(expr(\"collect_list(movieId) as movies\"))\n",
    "perUserPredictions.show()"
   ]
  },
  {
   "cell_type": "code",
   "execution_count": 15,
   "metadata": {},
   "outputs": [],
   "source": [
    "perUserActualvPred = perUserActual.join(perUserPredictions,[\"userId\"]).rdd\\\n",
    "                    .map(lambda row: (row[1], row[2][:15]))\n",
    "rank = RankingMetrics(perUserActualvPred)"
   ]
  },
  {
   "cell_type": "code",
   "execution_count": 16,
   "metadata": {},
   "outputs": [
    {
     "data": {
      "text/plain": [
       "0.6658978583196046"
      ]
     },
     "execution_count": 16,
     "metadata": {},
     "output_type": "execute_result"
    }
   ],
   "source": [
    "rank.meanAveragePrecision\n",
    "rank.precisionAt(5)"
   ]
  },
  {
   "cell_type": "code",
   "execution_count": 17,
   "metadata": {
    "scrolled": true
   },
   "outputs": [
    {
     "data": {
      "text/plain": [
       "0.5436573311367383"
      ]
     },
     "execution_count": 17,
     "metadata": {},
     "output_type": "execute_result"
    }
   ],
   "source": [
    "rank.precisionAt(10)"
   ]
  },
  {
   "cell_type": "code",
   "execution_count": 18,
   "metadata": {},
   "outputs": [
    {
     "data": {
      "text/plain": [
       "0.06032102943140835"
      ]
     },
     "execution_count": 18,
     "metadata": {},
     "output_type": "execute_result"
    }
   ],
   "source": [
    "rank.precisionAt(148)"
   ]
  },
  {
   "cell_type": "code",
   "execution_count": 115,
   "metadata": {},
   "outputs": [],
   "source": [
    "alsModel.save('als_model')"
   ]
  },
  {
   "cell_type": "code",
   "execution_count": 116,
   "metadata": {},
   "outputs": [
    {
     "name": "stdout",
     "output_type": "stream",
     "text": [
      "Root-mean-square error = 1.070249\n"
     ]
    }
   ],
   "source": [
    "alsModel2 = ALSModel.load('als_model/')\n",
    "predictions2 = alsModel2.transform(test).na.drop()\n",
    "evaluator2 = RegressionEvaluator(metricName=\"rmse\"\\\n",
    "                                 ,labelCol=\"rating\"\\\n",
    "                                ,predictionCol=\"prediction\")\n",
    "rmse = evaluator.evaluate(predictions2)\n",
    "print(\"Root-mean-square error = %f\" % rmse)"
   ]
  }
 ],
 "metadata": {
  "kernelspec": {
   "display_name": "Python 3",
   "language": "python",
   "name": "python3"
  },
  "language_info": {
   "codemirror_mode": {
    "name": "ipython",
    "version": 3
   },
   "file_extension": ".py",
   "mimetype": "text/x-python",
   "name": "python",
   "nbconvert_exporter": "python",
   "pygments_lexer": "ipython3",
   "version": "3.6.8"
  }
 },
 "nbformat": 4,
 "nbformat_minor": 2
}
